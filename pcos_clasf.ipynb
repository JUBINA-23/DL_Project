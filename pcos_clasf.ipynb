{
 "cells": [
  {
   "cell_type": "markdown",
   "metadata": {},
   "source": [
    "# PCOS Diagnosis Dataset\n",
    "#### This dataset contains information related to patients with Polycystic Ovary Syndrome (PCOS), a common hormonal disorder affecting women of reproductive age. The dataset consists of 1000 entries, each representing a patient, and includes five key features that are typically associated with the diagnosis and risk factors of PCOS. The features provide valuable insights into patient's health for predicting PCOS diagnoses."
   ]
  },
  {
   "cell_type": "code",
   "execution_count": 13,
   "metadata": {},
   "outputs": [
    {
     "data": {
      "text/plain": [
       "'Target Variable'"
      ]
     },
     "execution_count": 13,
     "metadata": {},
     "output_type": "execute_result"
    }
   ],
   "source": [
    "'''Features'''\n",
    "# Age (years): The age of the patient, ranging from 18 to 45 years.\n",
    "# BMI (kg/m²): The Body Mass Index, which is a measure of body fat based on height and weight, ranging from 18 to 35.\n",
    "# Menstrual Irregularity (binary): A binary indicator showing whether the patient has irregular menstrual cycles (0 = No, 1 = Yes).\n",
    "# Testosterone Level (ng/dL): The level of testosterone in the patient's blood, an important hormonal indicator of PCOS, ranging from 20 to 100 ng/dL.\n",
    "# Antral Follicle Count: The number of antral follicles detected during an ultrasound, ranging from 5 to 30, which helps in assessing ovarian reserve and PCOS presence.\n",
    "\n",
    "'''Target Variable'''\n",
    "# PCOS Diagnosis (binary): A binary indicator of whether the patient has been diagnosed with PCOS (0 = No, 1 = Yes), based on a combination of risk factors."
   ]
  },
  {
   "cell_type": "markdown",
   "metadata": {},
   "source": [
    "## Import Data"
   ]
  },
  {
   "cell_type": "code",
   "execution_count": 14,
   "metadata": {},
   "outputs": [
    {
     "name": "stdout",
     "output_type": "stream",
     "text": [
      "   Age   BMI  Menstrual_Irregularity  Testosterone_Level(ng/dL)  \\\n",
      "0   24  34.7                       1                       25.2   \n",
      "1   37  26.4                       0                       57.1   \n",
      "2   32  23.6                       0                       92.7   \n",
      "3   28  28.8                       0                       63.1   \n",
      "4   25  22.1                       1                       59.8   \n",
      "\n",
      "   Antral_Follicle_Count  PCOS_Diagnosis  \n",
      "0                     20               0  \n",
      "1                     25               0  \n",
      "2                     28               0  \n",
      "3                     26               0  \n",
      "4                      8               0  \n"
     ]
    }
   ],
   "source": [
    "import pandas as pd\n",
    "\n",
    "df = pd.read_csv(\"E:\\DataScience\\Projects\\DL\\pcos_dataset.csv\")\n",
    "print(df.head())"
   ]
  },
  {
   "cell_type": "markdown",
   "metadata": {},
   "source": [
    "## Data Cleaning"
   ]
  },
  {
   "cell_type": "code",
   "execution_count": 15,
   "metadata": {},
   "outputs": [],
   "source": [
    "df = df.dropna()            # drop null values\n",
    "df = df.drop_duplicates()   # drop duplicates"
   ]
  },
  {
   "cell_type": "markdown",
   "metadata": {},
   "source": [
    "## Split Independent and Dependent Variables"
   ]
  },
  {
   "cell_type": "code",
   "execution_count": 16,
   "metadata": {},
   "outputs": [],
   "source": [
    "X = df.iloc[:,:-1].values     # independent\n",
    "y = df.iloc[:,-1].values      # dependent"
   ]
  },
  {
   "cell_type": "code",
   "execution_count": 17,
   "metadata": {},
   "outputs": [
    {
     "name": "stdout",
     "output_type": "stream",
     "text": [
      "5\n"
     ]
    },
    {
     "data": {
      "text/plain": [
       "array([0, 0, 0, 0, 0, 0, 0, 0, 0, 0, 0, 0, 0, 1, 1, 0, 0, 0, 0, 0, 0, 0,\n",
       "       0, 0, 0, 0, 0, 1, 1, 0, 0, 0, 0, 1, 0, 0, 0, 0, 0, 0, 0, 0, 0, 1,\n",
       "       0, 0, 0, 0, 0, 0, 0, 1, 0, 0, 0, 0, 0, 0, 0, 0, 0, 0, 0, 0, 0, 1,\n",
       "       0, 1, 0, 0, 0, 1, 1, 0, 0, 0, 0, 0, 1, 0, 1, 1, 0, 0, 0, 0, 0, 0,\n",
       "       0, 0, 0, 0, 1, 0, 1, 0, 0, 0, 1, 1, 0, 0, 1, 0, 1, 0, 0, 1, 0, 0,\n",
       "       0, 0, 0, 0, 0, 0, 1, 0, 0, 0, 0, 0, 0, 0, 1, 0, 1, 0, 0, 0, 0, 0,\n",
       "       0, 0, 1, 0, 1, 0, 0, 0, 0, 0, 0, 0, 1, 0, 0, 0, 0, 0, 0, 0, 0, 0,\n",
       "       0, 0, 0, 0, 0, 1, 0, 1, 0, 0, 0, 0, 1, 1, 0, 0, 1, 1, 0, 0, 1, 1,\n",
       "       1, 0, 0, 0, 0, 0, 1, 0, 0, 0, 1, 0, 1, 0, 0, 0, 0, 0, 0, 0, 1, 0,\n",
       "       0, 0, 1, 0, 0, 0, 0, 1, 0, 0, 0, 0, 1, 0, 1, 0, 0, 0, 0, 0, 0, 0,\n",
       "       0, 0, 0, 1, 0, 0, 0, 0, 0, 0, 1, 0, 0, 0, 0, 0, 0, 0, 0, 1, 0, 0,\n",
       "       0, 0, 1, 0, 0, 0, 0, 0, 0, 0, 0, 0, 0, 1, 0, 0, 0, 0, 0, 0, 0, 0,\n",
       "       0, 0, 0, 1, 0, 0, 0, 0, 1, 0, 0, 0, 0, 0, 0, 0, 0, 1, 1, 0, 0, 0,\n",
       "       0, 1, 1, 0, 0, 1, 0, 0, 0, 0, 0, 0, 0, 0, 0, 0, 0, 1, 0, 1, 0, 0,\n",
       "       0, 0, 0, 1, 0, 0, 0, 0, 0, 0, 0, 0, 0, 0, 1, 0, 1, 0, 0, 0, 0, 0,\n",
       "       0, 1, 0, 0, 1, 0, 0, 0, 0, 0, 0, 0, 0, 1, 0, 0, 0, 0, 0, 0, 0, 0,\n",
       "       1, 0, 0, 0, 0, 0, 0, 0, 1, 0, 0, 0, 0, 0, 0, 0, 1, 0, 1, 0, 0, 0,\n",
       "       0, 0, 0, 0, 0, 0, 0, 0, 0, 0, 0, 1, 0, 1, 0, 0, 0, 1, 0, 0, 0, 0,\n",
       "       0, 0, 1, 0, 1, 0, 0, 1, 0, 0, 1, 0, 0, 1, 0, 0, 0, 0, 0, 0, 0, 0,\n",
       "       0, 0, 1, 1, 0, 0, 0, 0, 0, 0, 0, 0, 0, 0, 0, 0, 1, 0, 1, 0, 0, 1,\n",
       "       0, 0, 1, 0, 0, 0, 0, 0, 0, 0, 0, 0, 0, 0, 0, 0, 0, 0, 0, 0, 1, 0,\n",
       "       1, 0, 0, 0, 0, 1, 0, 0, 0, 1, 1, 0, 0, 0, 0, 0, 0, 0, 0, 0, 0, 1,\n",
       "       1, 0, 0, 0, 0, 0, 0, 0, 0, 0, 0, 0, 1, 0, 1, 0, 0, 0, 0, 1, 0, 0,\n",
       "       0, 0, 0, 0, 0, 1, 0, 0, 0, 0, 0, 0, 0, 0, 0, 0, 1, 0, 0, 0, 1, 1,\n",
       "       0, 1, 0, 0, 1, 0, 0, 0, 1, 0, 0, 1, 1, 1, 0, 0, 0, 0, 0, 0, 0, 0,\n",
       "       0, 0, 0, 1, 0, 1, 1, 1, 0, 0, 0, 1, 0, 0, 1, 1, 0, 0, 1, 0, 0, 0,\n",
       "       0, 0, 0, 0, 0, 0, 0, 1, 0, 0, 0, 0, 1, 0, 0, 0, 0, 0, 0, 0, 0, 0,\n",
       "       0, 1, 0, 0, 0, 1, 0, 0, 0, 0, 0, 0, 0, 0, 1, 0, 1, 0, 0, 0, 0, 0,\n",
       "       0, 1, 0, 0, 0, 0, 0, 1, 0, 0, 1, 0, 1, 1, 0, 0, 0, 0, 0, 0, 0, 0,\n",
       "       0, 1, 0, 1, 1, 1, 1, 0, 0, 0, 0, 0, 0, 0, 0, 1, 0, 1, 0, 0, 0, 0,\n",
       "       0, 0, 0, 0, 1, 0, 0, 1, 1, 1, 1, 0, 0, 0, 0, 0, 0, 0, 0, 0, 0, 0,\n",
       "       1, 0, 0, 0, 0, 0, 0, 0, 0, 0, 0, 0, 0, 0, 0, 0, 0, 0, 0, 1, 0, 0,\n",
       "       0, 0, 0, 0, 0, 0, 0, 1, 0, 0, 0, 0, 0, 0, 0, 0, 0, 0, 1, 1, 1, 0,\n",
       "       0, 0, 1, 0, 1, 0, 0, 1, 0, 0, 0, 0, 0, 0, 0, 0, 0, 1, 0, 0, 0, 0,\n",
       "       0, 1, 0, 0, 0, 1, 0, 0, 0, 0, 0, 0, 1, 0, 1, 1, 0, 0, 0, 1, 0, 0,\n",
       "       0, 0, 0, 0, 1, 0, 0, 0, 0, 1, 0, 1, 0, 0, 0, 0, 0, 0, 0, 0, 0, 0,\n",
       "       1, 0, 0, 0, 0, 0, 0, 0, 0, 0, 0, 0, 0, 1, 0, 1, 1, 0, 0, 0, 1, 0,\n",
       "       0, 1, 0, 1, 0, 0, 0, 0, 1, 1, 0, 0, 0, 0, 1, 0, 0, 0, 0, 0, 1, 0,\n",
       "       0, 1, 1, 0, 0, 0, 0, 1, 1, 0, 1, 0, 1, 0, 1, 0, 0, 0, 0, 0, 0, 0,\n",
       "       0, 0, 0, 1, 1, 0, 0, 0, 1, 1, 0, 0, 0, 1, 0, 0, 0, 1, 1, 0, 1, 0,\n",
       "       0, 0, 0, 0, 0, 1, 0, 1, 1, 0, 0, 0, 0, 0, 0, 0, 0, 0, 1, 0, 0, 0,\n",
       "       0, 0, 0, 0, 0, 0, 0, 0, 0, 0, 0, 0, 1, 0, 0, 0, 0, 1, 0, 0, 0, 0,\n",
       "       0, 0, 0, 1, 0, 0, 0, 0, 0, 0, 0, 0, 1, 0, 0, 0, 0, 0, 0, 0, 0, 0,\n",
       "       0, 0, 1, 0, 1, 1, 0, 0, 0, 0, 1, 0, 0, 0, 0, 0, 0, 0, 1, 0, 1, 0,\n",
       "       0, 0, 1, 1, 0, 0, 0, 1, 0, 0, 1, 0, 0, 0, 0, 1, 0, 0, 0, 0, 1, 1,\n",
       "       0, 0, 0, 0, 0, 0, 0, 0, 0, 0])"
      ]
     },
     "execution_count": 17,
     "metadata": {},
     "output_type": "execute_result"
    }
   ],
   "source": [
    "# check the number of features\n",
    "n_features = X.shape[1]      \n",
    "print(n_features)\n",
    "\n",
    "#  display target variable column as array\n",
    "y"
   ]
  },
  {
   "cell_type": "markdown",
   "metadata": {},
   "source": [
    "## Train Test Split"
   ]
  },
  {
   "cell_type": "code",
   "execution_count": 18,
   "metadata": {},
   "outputs": [],
   "source": [
    "from sklearn.model_selection import train_test_split\n",
    "\n",
    "X_train, X_test, y_train, y_test = train_test_split(X, y, test_size=0.20, random_state=42)"
   ]
  },
  {
   "cell_type": "markdown",
   "metadata": {},
   "source": [
    "## Build Tensorflow Model"
   ]
  },
  {
   "cell_type": "code",
   "execution_count": 19,
   "metadata": {},
   "outputs": [
    {
     "name": "stderr",
     "output_type": "stream",
     "text": [
      "c:\\Users\\junaidkh\\anaconda3\\envs\\tf\\Lib\\site-packages\\keras\\src\\layers\\core\\dense.py:87: UserWarning: Do not pass an `input_shape`/`input_dim` argument to a layer. When using Sequential models, prefer using an `Input(shape)` object as the first layer in the model instead.\n",
      "  super().__init__(activity_regularizer=activity_regularizer, **kwargs)\n"
     ]
    }
   ],
   "source": [
    "from tensorflow.keras import Sequential\n",
    "from tensorflow.keras.layers import Dense\n",
    "\n",
    "# Artifical neural networks using sequential model\n",
    "model = Sequential()                 \n",
    "\n",
    "model.add(Dense(128, activation='relu', input_shape=(n_features,)))    # 5 input layers\n",
    "\n",
    "model.add(Dense(1, activation='sigmoid'))  # 1 neuron for two classes - 0/1 - binary\n",
    " \n",
    "model.compile(optimizer='adam', loss='binary_crossentropy', metrics=['accuracy'])"
   ]
  },
  {
   "cell_type": "markdown",
   "metadata": {},
   "source": [
    "## Fitting into the Model"
   ]
  },
  {
   "cell_type": "code",
   "execution_count": 20,
   "metadata": {},
   "outputs": [
    {
     "name": "stdout",
     "output_type": "stream",
     "text": [
      "Epoch 1/150\n",
      "25/25 - 1s - 40ms/step - accuracy: 0.7538 - loss: 0.5331\n",
      "Epoch 2/150\n",
      "25/25 - 0s - 4ms/step - accuracy: 0.8025 - loss: 0.4768\n",
      "Epoch 3/150\n",
      "25/25 - 0s - 4ms/step - accuracy: 0.8025 - loss: 0.4365\n",
      "Epoch 4/150\n",
      "25/25 - 0s - 4ms/step - accuracy: 0.8112 - loss: 0.4149\n",
      "Epoch 5/150\n",
      "25/25 - 0s - 3ms/step - accuracy: 0.8313 - loss: 0.3983\n",
      "Epoch 6/150\n",
      "25/25 - 0s - 4ms/step - accuracy: 0.8550 - loss: 0.3811\n",
      "Epoch 7/150\n",
      "25/25 - 0s - 4ms/step - accuracy: 0.8500 - loss: 0.3705\n",
      "Epoch 8/150\n",
      "25/25 - 0s - 4ms/step - accuracy: 0.8425 - loss: 0.3638\n",
      "Epoch 9/150\n",
      "25/25 - 0s - 4ms/step - accuracy: 0.8512 - loss: 0.3630\n",
      "Epoch 10/150\n",
      "25/25 - 0s - 4ms/step - accuracy: 0.8600 - loss: 0.3470\n",
      "Epoch 11/150\n",
      "25/25 - 0s - 4ms/step - accuracy: 0.8438 - loss: 0.3523\n",
      "Epoch 12/150\n",
      "25/25 - 0s - 5ms/step - accuracy: 0.8788 - loss: 0.3224\n",
      "Epoch 13/150\n",
      "25/25 - 0s - 5ms/step - accuracy: 0.8512 - loss: 0.3197\n",
      "Epoch 14/150\n",
      "25/25 - 0s - 4ms/step - accuracy: 0.8500 - loss: 0.3249\n",
      "Epoch 15/150\n",
      "25/25 - 0s - 5ms/step - accuracy: 0.8725 - loss: 0.3115\n",
      "Epoch 16/150\n",
      "25/25 - 0s - 4ms/step - accuracy: 0.8800 - loss: 0.2974\n",
      "Epoch 17/150\n",
      "25/25 - 0s - 5ms/step - accuracy: 0.8550 - loss: 0.3243\n",
      "Epoch 18/150\n",
      "25/25 - 0s - 4ms/step - accuracy: 0.8838 - loss: 0.2966\n",
      "Epoch 19/150\n",
      "25/25 - 0s - 4ms/step - accuracy: 0.8625 - loss: 0.2971\n",
      "Epoch 20/150\n",
      "25/25 - 0s - 4ms/step - accuracy: 0.8850 - loss: 0.2803\n",
      "Epoch 21/150\n",
      "25/25 - 0s - 5ms/step - accuracy: 0.8813 - loss: 0.2787\n",
      "Epoch 22/150\n",
      "25/25 - 0s - 5ms/step - accuracy: 0.8925 - loss: 0.2644\n",
      "Epoch 23/150\n",
      "25/25 - 0s - 5ms/step - accuracy: 0.8813 - loss: 0.2723\n",
      "Epoch 24/150\n",
      "25/25 - 0s - 5ms/step - accuracy: 0.8925 - loss: 0.2647\n",
      "Epoch 25/150\n",
      "25/25 - 0s - 4ms/step - accuracy: 0.8950 - loss: 0.2571\n",
      "Epoch 26/150\n",
      "25/25 - 0s - 4ms/step - accuracy: 0.8988 - loss: 0.2515\n",
      "Epoch 27/150\n",
      "25/25 - 0s - 4ms/step - accuracy: 0.9000 - loss: 0.2504\n",
      "Epoch 28/150\n",
      "25/25 - 0s - 6ms/step - accuracy: 0.8913 - loss: 0.2554\n",
      "Epoch 29/150\n",
      "25/25 - 0s - 4ms/step - accuracy: 0.8863 - loss: 0.2540\n",
      "Epoch 30/150\n",
      "25/25 - 0s - 5ms/step - accuracy: 0.8975 - loss: 0.2463\n",
      "Epoch 31/150\n",
      "25/25 - 0s - 4ms/step - accuracy: 0.9013 - loss: 0.2430\n",
      "Epoch 32/150\n",
      "25/25 - 0s - 4ms/step - accuracy: 0.8963 - loss: 0.2394\n",
      "Epoch 33/150\n",
      "25/25 - 0s - 4ms/step - accuracy: 0.9050 - loss: 0.2307\n",
      "Epoch 34/150\n",
      "25/25 - 0s - 4ms/step - accuracy: 0.8988 - loss: 0.2304\n",
      "Epoch 35/150\n",
      "25/25 - 0s - 4ms/step - accuracy: 0.8938 - loss: 0.2311\n",
      "Epoch 36/150\n",
      "25/25 - 0s - 4ms/step - accuracy: 0.9025 - loss: 0.2313\n",
      "Epoch 37/150\n",
      "25/25 - 0s - 4ms/step - accuracy: 0.9013 - loss: 0.2317\n",
      "Epoch 38/150\n",
      "25/25 - 0s - 5ms/step - accuracy: 0.8938 - loss: 0.2345\n",
      "Epoch 39/150\n",
      "25/25 - 0s - 5ms/step - accuracy: 0.8938 - loss: 0.2451\n",
      "Epoch 40/150\n",
      "25/25 - 0s - 5ms/step - accuracy: 0.9087 - loss: 0.2229\n",
      "Epoch 41/150\n",
      "25/25 - 0s - 5ms/step - accuracy: 0.9100 - loss: 0.2154\n",
      "Epoch 42/150\n",
      "25/25 - 0s - 4ms/step - accuracy: 0.8963 - loss: 0.2275\n",
      "Epoch 43/150\n",
      "25/25 - 0s - 5ms/step - accuracy: 0.9050 - loss: 0.2109\n",
      "Epoch 44/150\n",
      "25/25 - 0s - 5ms/step - accuracy: 0.9062 - loss: 0.2216\n",
      "Epoch 45/150\n",
      "25/25 - 0s - 5ms/step - accuracy: 0.9062 - loss: 0.2153\n",
      "Epoch 46/150\n",
      "25/25 - 0s - 5ms/step - accuracy: 0.9000 - loss: 0.2195\n",
      "Epoch 47/150\n",
      "25/25 - 0s - 4ms/step - accuracy: 0.9087 - loss: 0.2076\n",
      "Epoch 48/150\n",
      "25/25 - 0s - 5ms/step - accuracy: 0.9150 - loss: 0.2180\n",
      "Epoch 49/150\n",
      "25/25 - 0s - 4ms/step - accuracy: 0.9062 - loss: 0.2265\n",
      "Epoch 50/150\n",
      "25/25 - 0s - 3ms/step - accuracy: 0.9125 - loss: 0.2127\n",
      "Epoch 51/150\n",
      "25/25 - 0s - 4ms/step - accuracy: 0.9162 - loss: 0.1992\n",
      "Epoch 52/150\n",
      "25/25 - 0s - 4ms/step - accuracy: 0.9112 - loss: 0.1976\n",
      "Epoch 53/150\n",
      "25/25 - 0s - 4ms/step - accuracy: 0.9125 - loss: 0.2017\n",
      "Epoch 54/150\n",
      "25/25 - 0s - 4ms/step - accuracy: 0.9125 - loss: 0.2066\n",
      "Epoch 55/150\n",
      "25/25 - 0s - 3ms/step - accuracy: 0.9187 - loss: 0.1915\n",
      "Epoch 56/150\n",
      "25/25 - 0s - 3ms/step - accuracy: 0.9087 - loss: 0.2004\n",
      "Epoch 57/150\n",
      "25/25 - 0s - 3ms/step - accuracy: 0.9125 - loss: 0.1957\n",
      "Epoch 58/150\n",
      "25/25 - 0s - 4ms/step - accuracy: 0.9112 - loss: 0.1990\n",
      "Epoch 59/150\n",
      "25/25 - 0s - 3ms/step - accuracy: 0.9175 - loss: 0.1959\n",
      "Epoch 60/150\n",
      "25/25 - 0s - 4ms/step - accuracy: 0.9200 - loss: 0.1947\n",
      "Epoch 61/150\n",
      "25/25 - 0s - 4ms/step - accuracy: 0.9187 - loss: 0.1885\n",
      "Epoch 62/150\n",
      "25/25 - 0s - 4ms/step - accuracy: 0.9237 - loss: 0.1920\n",
      "Epoch 63/150\n",
      "25/25 - 0s - 6ms/step - accuracy: 0.9212 - loss: 0.1930\n",
      "Epoch 64/150\n",
      "25/25 - 0s - 4ms/step - accuracy: 0.9175 - loss: 0.1832\n",
      "Epoch 65/150\n",
      "25/25 - 0s - 5ms/step - accuracy: 0.9162 - loss: 0.1958\n",
      "Epoch 66/150\n",
      "25/25 - 0s - 5ms/step - accuracy: 0.9137 - loss: 0.1956\n",
      "Epoch 67/150\n",
      "25/25 - 0s - 5ms/step - accuracy: 0.9162 - loss: 0.1913\n",
      "Epoch 68/150\n",
      "25/25 - 0s - 5ms/step - accuracy: 0.9162 - loss: 0.1862\n",
      "Epoch 69/150\n",
      "25/25 - 0s - 5ms/step - accuracy: 0.9162 - loss: 0.1998\n",
      "Epoch 70/150\n",
      "25/25 - 0s - 4ms/step - accuracy: 0.8988 - loss: 0.2086\n",
      "Epoch 71/150\n",
      "25/25 - 0s - 3ms/step - accuracy: 0.9100 - loss: 0.2012\n",
      "Epoch 72/150\n",
      "25/25 - 0s - 4ms/step - accuracy: 0.9225 - loss: 0.1868\n",
      "Epoch 73/150\n",
      "25/25 - 0s - 4ms/step - accuracy: 0.9175 - loss: 0.1985\n",
      "Epoch 74/150\n",
      "25/25 - 0s - 4ms/step - accuracy: 0.9262 - loss: 0.1733\n",
      "Epoch 75/150\n",
      "25/25 - 0s - 3ms/step - accuracy: 0.9300 - loss: 0.1727\n",
      "Epoch 76/150\n",
      "25/25 - 0s - 4ms/step - accuracy: 0.9162 - loss: 0.1793\n",
      "Epoch 77/150\n",
      "25/25 - 0s - 4ms/step - accuracy: 0.9250 - loss: 0.1787\n",
      "Epoch 78/150\n",
      "25/25 - 0s - 5ms/step - accuracy: 0.9125 - loss: 0.1835\n",
      "Epoch 79/150\n",
      "25/25 - 0s - 3ms/step - accuracy: 0.9262 - loss: 0.1753\n",
      "Epoch 80/150\n",
      "25/25 - 0s - 4ms/step - accuracy: 0.9337 - loss: 0.1687\n",
      "Epoch 81/150\n",
      "25/25 - 0s - 4ms/step - accuracy: 0.9225 - loss: 0.1743\n",
      "Epoch 82/150\n",
      "25/25 - 0s - 4ms/step - accuracy: 0.9275 - loss: 0.1810\n",
      "Epoch 83/150\n",
      "25/25 - 0s - 4ms/step - accuracy: 0.9337 - loss: 0.1711\n",
      "Epoch 84/150\n",
      "25/25 - 0s - 4ms/step - accuracy: 0.9162 - loss: 0.1962\n",
      "Epoch 85/150\n",
      "25/25 - 0s - 5ms/step - accuracy: 0.9175 - loss: 0.1876\n",
      "Epoch 86/150\n",
      "25/25 - 0s - 4ms/step - accuracy: 0.9312 - loss: 0.1673\n",
      "Epoch 87/150\n",
      "25/25 - 0s - 6ms/step - accuracy: 0.9212 - loss: 0.1672\n",
      "Epoch 88/150\n",
      "25/25 - 0s - 6ms/step - accuracy: 0.9125 - loss: 0.1879\n",
      "Epoch 89/150\n",
      "25/25 - 0s - 7ms/step - accuracy: 0.9362 - loss: 0.1749\n",
      "Epoch 90/150\n",
      "25/25 - 0s - 8ms/step - accuracy: 0.9337 - loss: 0.1652\n",
      "Epoch 91/150\n",
      "25/25 - 0s - 9ms/step - accuracy: 0.9200 - loss: 0.1639\n",
      "Epoch 92/150\n",
      "25/25 - 0s - 13ms/step - accuracy: 0.9262 - loss: 0.1662\n",
      "Epoch 93/150\n",
      "25/25 - 0s - 6ms/step - accuracy: 0.9250 - loss: 0.1683\n",
      "Epoch 94/150\n",
      "25/25 - 0s - 7ms/step - accuracy: 0.9175 - loss: 0.1781\n",
      "Epoch 95/150\n",
      "25/25 - 0s - 6ms/step - accuracy: 0.9200 - loss: 0.1666\n",
      "Epoch 96/150\n",
      "25/25 - 0s - 6ms/step - accuracy: 0.9225 - loss: 0.1736\n",
      "Epoch 97/150\n",
      "25/25 - 0s - 6ms/step - accuracy: 0.9388 - loss: 0.1668\n",
      "Epoch 98/150\n",
      "25/25 - 0s - 4ms/step - accuracy: 0.9175 - loss: 0.1929\n",
      "Epoch 99/150\n",
      "25/25 - 0s - 3ms/step - accuracy: 0.9312 - loss: 0.1723\n",
      "Epoch 100/150\n",
      "25/25 - 0s - 4ms/step - accuracy: 0.9350 - loss: 0.1649\n",
      "Epoch 101/150\n",
      "25/25 - 0s - 4ms/step - accuracy: 0.9312 - loss: 0.1583\n",
      "Epoch 102/150\n",
      "25/25 - 0s - 7ms/step - accuracy: 0.9300 - loss: 0.1613\n",
      "Epoch 103/150\n",
      "25/25 - 0s - 7ms/step - accuracy: 0.9337 - loss: 0.1641\n",
      "Epoch 104/150\n",
      "25/25 - 0s - 9ms/step - accuracy: 0.9275 - loss: 0.1679\n",
      "Epoch 105/150\n",
      "25/25 - 0s - 8ms/step - accuracy: 0.9287 - loss: 0.1566\n",
      "Epoch 106/150\n",
      "25/25 - 0s - 6ms/step - accuracy: 0.9250 - loss: 0.1620\n",
      "Epoch 107/150\n",
      "25/25 - 0s - 6ms/step - accuracy: 0.9312 - loss: 0.1587\n",
      "Epoch 108/150\n",
      "25/25 - 0s - 7ms/step - accuracy: 0.9312 - loss: 0.1565\n",
      "Epoch 109/150\n",
      "25/25 - 0s - 7ms/step - accuracy: 0.9375 - loss: 0.1569\n",
      "Epoch 110/150\n",
      "25/25 - 0s - 7ms/step - accuracy: 0.9350 - loss: 0.1567\n",
      "Epoch 111/150\n",
      "25/25 - 0s - 7ms/step - accuracy: 0.9300 - loss: 0.1547\n",
      "Epoch 112/150\n",
      "25/25 - 0s - 7ms/step - accuracy: 0.9362 - loss: 0.1595\n",
      "Epoch 113/150\n",
      "25/25 - 0s - 7ms/step - accuracy: 0.9362 - loss: 0.1506\n",
      "Epoch 114/150\n",
      "25/25 - 0s - 7ms/step - accuracy: 0.9413 - loss: 0.1430\n",
      "Epoch 115/150\n",
      "25/25 - 0s - 6ms/step - accuracy: 0.9287 - loss: 0.1679\n",
      "Epoch 116/150\n",
      "25/25 - 0s - 7ms/step - accuracy: 0.9300 - loss: 0.1585\n",
      "Epoch 117/150\n",
      "25/25 - 0s - 7ms/step - accuracy: 0.9250 - loss: 0.1509\n",
      "Epoch 118/150\n",
      "25/25 - 0s - 8ms/step - accuracy: 0.9312 - loss: 0.1540\n",
      "Epoch 119/150\n",
      "25/25 - 0s - 7ms/step - accuracy: 0.9337 - loss: 0.1421\n",
      "Epoch 120/150\n",
      "25/25 - 0s - 7ms/step - accuracy: 0.9425 - loss: 0.1417\n",
      "Epoch 121/150\n",
      "25/25 - 0s - 8ms/step - accuracy: 0.9463 - loss: 0.1361\n",
      "Epoch 122/150\n",
      "25/25 - 0s - 7ms/step - accuracy: 0.9312 - loss: 0.1456\n",
      "Epoch 123/150\n",
      "25/25 - 0s - 13ms/step - accuracy: 0.9362 - loss: 0.1463\n",
      "Epoch 124/150\n",
      "25/25 - 0s - 7ms/step - accuracy: 0.9413 - loss: 0.1444\n",
      "Epoch 125/150\n",
      "25/25 - 0s - 8ms/step - accuracy: 0.9337 - loss: 0.1587\n",
      "Epoch 126/150\n",
      "25/25 - 0s - 7ms/step - accuracy: 0.9450 - loss: 0.1437\n",
      "Epoch 127/150\n",
      "25/25 - 0s - 6ms/step - accuracy: 0.9287 - loss: 0.1685\n",
      "Epoch 128/150\n",
      "25/25 - 0s - 7ms/step - accuracy: 0.9287 - loss: 0.1461\n",
      "Epoch 129/150\n",
      "25/25 - 0s - 8ms/step - accuracy: 0.9413 - loss: 0.1386\n",
      "Epoch 130/150\n",
      "25/25 - 0s - 12ms/step - accuracy: 0.9400 - loss: 0.1452\n",
      "Epoch 131/150\n",
      "25/25 - 0s - 6ms/step - accuracy: 0.9362 - loss: 0.1412\n",
      "Epoch 132/150\n",
      "25/25 - 0s - 6ms/step - accuracy: 0.9300 - loss: 0.1543\n",
      "Epoch 133/150\n",
      "25/25 - 0s - 7ms/step - accuracy: 0.9362 - loss: 0.1364\n",
      "Epoch 134/150\n",
      "25/25 - 0s - 7ms/step - accuracy: 0.9425 - loss: 0.1335\n",
      "Epoch 135/150\n",
      "25/25 - 0s - 8ms/step - accuracy: 0.9488 - loss: 0.1406\n",
      "Epoch 136/150\n",
      "25/25 - 0s - 8ms/step - accuracy: 0.9388 - loss: 0.1456\n",
      "Epoch 137/150\n",
      "25/25 - 0s - 7ms/step - accuracy: 0.9362 - loss: 0.1472\n",
      "Epoch 138/150\n",
      "25/25 - 0s - 7ms/step - accuracy: 0.9425 - loss: 0.1349\n",
      "Epoch 139/150\n",
      "25/25 - 0s - 6ms/step - accuracy: 0.9337 - loss: 0.1581\n",
      "Epoch 140/150\n",
      "25/25 - 0s - 8ms/step - accuracy: 0.9513 - loss: 0.1370\n",
      "Epoch 141/150\n",
      "25/25 - 0s - 9ms/step - accuracy: 0.9388 - loss: 0.1363\n",
      "Epoch 142/150\n",
      "25/25 - 0s - 7ms/step - accuracy: 0.9388 - loss: 0.1350\n",
      "Epoch 143/150\n",
      "25/25 - 0s - 6ms/step - accuracy: 0.9362 - loss: 0.1422\n",
      "Epoch 144/150\n",
      "25/25 - 0s - 6ms/step - accuracy: 0.9400 - loss: 0.1427\n",
      "Epoch 145/150\n",
      "25/25 - 0s - 6ms/step - accuracy: 0.9475 - loss: 0.1265\n",
      "Epoch 146/150\n",
      "25/25 - 0s - 8ms/step - accuracy: 0.9463 - loss: 0.1322\n",
      "Epoch 147/150\n",
      "25/25 - 0s - 6ms/step - accuracy: 0.9400 - loss: 0.1375\n",
      "Epoch 148/150\n",
      "25/25 - 0s - 7ms/step - accuracy: 0.9275 - loss: 0.1547\n",
      "Epoch 149/150\n",
      "25/25 - 0s - 8ms/step - accuracy: 0.9475 - loss: 0.1268\n",
      "Epoch 150/150\n",
      "25/25 - 0s - 7ms/step - accuracy: 0.9388 - loss: 0.1239\n"
     ]
    },
    {
     "data": {
      "text/plain": [
       "<keras.src.callbacks.history.History at 0x23f74453590>"
      ]
     },
     "execution_count": 20,
     "metadata": {},
     "output_type": "execute_result"
    }
   ],
   "source": [
    "model.fit(X_train, y_train, epochs=150, batch_size=32, verbose=2)"
   ]
  },
  {
   "cell_type": "markdown",
   "metadata": {},
   "source": [
    "## Evaluating the Model"
   ]
  },
  {
   "cell_type": "code",
   "execution_count": 21,
   "metadata": {},
   "outputs": [
    {
     "name": "stdout",
     "output_type": "stream",
     "text": [
      "Test Accuracy: 0.945 \n"
     ]
    }
   ],
   "source": [
    "loss, acc = model.evaluate(X_test, y_test, verbose=0)\n",
    "print('Test Accuracy: %.3f '% acc)"
   ]
  },
  {
   "cell_type": "markdown",
   "metadata": {},
   "source": [
    "## Predicting the class"
   ]
  },
  {
   "cell_type": "code",
   "execution_count": 22,
   "metadata": {},
   "outputs": [
    {
     "name": "stdout",
     "output_type": "stream",
     "text": [
      "\u001b[1m1/1\u001b[0m \u001b[32m━━━━━━━━━━━━━━━━━━━━\u001b[0m\u001b[37m\u001b[0m \u001b[1m0s\u001b[0m 131ms/step\n",
      "Predicted class: [0]\n"
     ]
    }
   ],
   "source": [
    "# saving the model\n",
    "# model.save('pcos.keras')     \n",
    "\n",
    "# from tensorflow.keras.models import load_model\n",
    "# model = load_model('pcos.keras')\n",
    "\n",
    "# Make a prediction with a sample row of data\n",
    "import numpy as np\n",
    "sample = np.array([[18, 35, 1, 100, 30]])  \n",
    "prediction = model.predict(sample)\n",
    "\n",
    "predicted_class = np.argmax(prediction, axis=1)\n",
    "print('Predicted class:', predicted_class)\n"
   ]
  }
 ],
 "metadata": {
  "kernelspec": {
   "display_name": "tf",
   "language": "python",
   "name": "python3"
  },
  "language_info": {
   "codemirror_mode": {
    "name": "ipython",
    "version": 3
   },
   "file_extension": ".py",
   "mimetype": "text/x-python",
   "name": "python",
   "nbconvert_exporter": "python",
   "pygments_lexer": "ipython3",
   "version": "3.11.11"
  }
 },
 "nbformat": 4,
 "nbformat_minor": 2
}
